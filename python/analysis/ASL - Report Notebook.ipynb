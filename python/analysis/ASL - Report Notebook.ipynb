{
 "cells": [
  {
   "cell_type": "markdown",
   "metadata": {},
   "source": [
    "# ASL - Report Notebook"
   ]
  },
  {
   "cell_type": "markdown",
   "metadata": {},
   "source": [
    "## 1. System Overview (75 pts)"
   ]
  },
  {
   "cell_type": "code",
   "execution_count": null,
   "metadata": {},
   "outputs": [],
   "source": [
    "%load_ext autoreload\n",
    "%autoreload 2"
   ]
  },
  {
   "cell_type": "code",
   "execution_count": null,
   "metadata": {},
   "outputs": [],
   "source": [
    "%aimport query\n",
    "suite='base_reporting_test'"
   ]
  },
  {
   "cell_type": "markdown",
   "metadata": {},
   "source": [
    "#### TODO:\n",
    "- find solution for horizontal aligning\n",
    "- find solution for output folder\n",
    "- find solution for non output plots"
   ]
  },
  {
   "cell_type": "markdown",
   "metadata": {},
   "source": [
    "## 2. Baseline without MW (75 pts)"
   ]
  },
  {
   "cell_type": "markdown",
   "metadata": {},
   "source": [
    "### 2.1 One Server"
   ]
  },
  {
   "cell_type": "code",
   "execution_count": null,
   "metadata": {},
   "outputs": [],
   "source": [
    "exp_name=\"exp21\"\n",
    "pd = query.load_pd(suite=suite, exp=exp_name)"
   ]
  },
  {
   "cell_type": "markdown",
   "metadata": {},
   "source": [
    "#### Write-Only"
   ]
  },
  {
   "cell_type": "code",
   "execution_count": null,
   "metadata": {},
   "outputs": [],
   "source": [
    "pd_wo = pd[pd['workload']=='write-only']\n",
    "\n",
    "generate(t1_plot, pd_wo, f\"{exp_name}_wo_t1\") # throughput vs num_clients plot\n",
    "generate(rt1_plot, pd_wo, f\"{exp_name}_wo_rt1\") # response time vs num_clients plot"
   ]
  },
  {
   "cell_type": "markdown",
   "metadata": {},
   "source": [
    "#### Read-Only"
   ]
  },
  {
   "cell_type": "code",
   "execution_count": null,
   "metadata": {},
   "outputs": [],
   "source": [
    "pd_ro = pd[pd['workload']=='read-only']\n",
    "\n",
    "generate(t1_plot, pd_ro, f\"{exp_name}_ro_t1\") # throughput vs num_clients plot\n",
    "generate(rt1_plot, pd_ro, f\"{exp_name}_ro_rt1\") # response time vs num_clients plot"
   ]
  },
  {
   "cell_type": "markdown",
   "metadata": {},
   "source": [
    "### 2.2 Two Server"
   ]
  },
  {
   "cell_type": "code",
   "execution_count": null,
   "metadata": {},
   "outputs": [],
   "source": [
    "exp_name=\"exp22\"\n",
    "pd = query.load_pd(suite=suite, exp=exp_name)"
   ]
  },
  {
   "cell_type": "markdown",
   "metadata": {},
   "source": [
    "#### Write-Only"
   ]
  },
  {
   "cell_type": "code",
   "execution_count": null,
   "metadata": {},
   "outputs": [],
   "source": [
    "pd_wo = pd[pd['workload']=='write-only']\n",
    "\n",
    "generate(t1_plot, pd_wo, f\"{exp_name}_wo_t1\") # throughput vs num_clients plot\n",
    "generate(rt1_plot, pd_wo, f\"{exp_name}_wo_rt1\") # response time vs num_clients plot"
   ]
  },
  {
   "cell_type": "markdown",
   "metadata": {},
   "source": [
    "#### Read-Only"
   ]
  },
  {
   "cell_type": "code",
   "execution_count": null,
   "metadata": {},
   "outputs": [],
   "source": [
    "pd_ro = pd[pd['workload']=='read-only']\n",
    "\n",
    "generate(t1_plot, pd_ro, f\"{exp_name}_ro_t1\") # throughput vs num_clients plot\n",
    "generate(rt1_plot, pd_ro, f\"{exp_name}_ro_rt1\") # response time vs num_clients plot"
   ]
  },
  {
   "cell_type": "markdown",
   "metadata": {},
   "source": [
    "### 2.3 Summary"
   ]
  },
  {
   "cell_type": "code",
   "execution_count": null,
   "metadata": {},
   "outputs": [],
   "source": [
    "# Code to generate the summary"
   ]
  },
  {
   "cell_type": "markdown",
   "metadata": {},
   "source": [
    "## 3. Baseline with MW (90 pts)"
   ]
  },
  {
   "cell_type": "markdown",
   "metadata": {},
   "source": [
    "### 3.1 One Middleware"
   ]
  },
  {
   "cell_type": "code",
   "execution_count": null,
   "metadata": {},
   "outputs": [],
   "source": [
    "exp_name=\"exp31\"\n",
    "pd = query.load_pd(suite=suite, exp=exp_name)"
   ]
  },
  {
   "cell_type": "markdown",
   "metadata": {},
   "source": [
    "#### Write-Only"
   ]
  },
  {
   "cell_type": "code",
   "execution_count": null,
   "metadata": {},
   "outputs": [],
   "source": [
    "pd_wo = pd[pd['workload']=='write-only']\n",
    "\n",
    "generate(t2_plot, pd_wo, f\"{exp_name}_wo_t2\") # throughput vs num_clients plot\n",
    "generate(rt2_plot, pd_wo, f\"{exp_name}_wo_rt2\") # response time vs num_clients plot"
   ]
  },
  {
   "cell_type": "markdown",
   "metadata": {},
   "source": [
    "#### Read-Only"
   ]
  },
  {
   "cell_type": "code",
   "execution_count": null,
   "metadata": {},
   "outputs": [],
   "source": [
    "pd_ro = pd[pd['workload']=='read-only']\n",
    "\n",
    "generate(t2_plot, pd_ro, f\"{exp_name}_ro_t2\") # throughput vs num_clients plot\n",
    "generate(rt2_plot, pd_ro, f\"{exp_name}_ro_rt2\") # response time vs num_clients plot"
   ]
  },
  {
   "cell_type": "markdown",
   "metadata": {},
   "source": [
    "#### 3.1.1 Explanation"
   ]
  },
  {
   "cell_type": "code",
   "execution_count": null,
   "metadata": {},
   "outputs": [],
   "source": []
  },
  {
   "cell_type": "markdown",
   "metadata": {},
   "source": [
    "### 3.2 Two Middlewares"
   ]
  },
  {
   "cell_type": "code",
   "execution_count": null,
   "metadata": {},
   "outputs": [],
   "source": [
    "exp_name=\"exp32\"\n",
    "pd = query.load_pd(suite=suite, exp=exp_name)"
   ]
  },
  {
   "cell_type": "markdown",
   "metadata": {},
   "source": [
    "#### Write-Only"
   ]
  },
  {
   "cell_type": "code",
   "execution_count": null,
   "metadata": {},
   "outputs": [],
   "source": [
    "pd_wo = pd[pd['workload']=='write-only']\n",
    "\n",
    "generate(t2_plot, pd_wo, f\"{exp_name}_wo_t2\") # throughput vs num_clients plot\n",
    "generate(rt2_plot, pd_wo, f\"{exp_name}_wo_rt2\") # response time vs num_clients plot"
   ]
  },
  {
   "cell_type": "markdown",
   "metadata": {},
   "source": [
    "#### Read-Only"
   ]
  },
  {
   "cell_type": "code",
   "execution_count": null,
   "metadata": {},
   "outputs": [],
   "source": [
    "pd_ro = pd[pd['workload']=='read-only']\n",
    "\n",
    "generate(t2_plot, pd_ro, f\"{exp_name}_ro_t2\") # throughput vs num_clients plot\n",
    "generate(rt2_plot, pd_ro, f\"{exp_name}_ro_rt2\") # response time vs num_clients plot"
   ]
  },
  {
   "cell_type": "markdown",
   "metadata": {},
   "source": [
    "#### 3.2.1 Explanation"
   ]
  },
  {
   "cell_type": "code",
   "execution_count": null,
   "metadata": {},
   "outputs": [],
   "source": []
  },
  {
   "cell_type": "markdown",
   "metadata": {},
   "source": [
    "### 3.3 Summary"
   ]
  },
  {
   "cell_type": "code",
   "execution_count": null,
   "metadata": {},
   "outputs": [],
   "source": []
  },
  {
   "cell_type": "markdown",
   "metadata": {},
   "source": [
    "## 4. Throughput for Writes (90 pts)"
   ]
  },
  {
   "cell_type": "markdown",
   "metadata": {},
   "source": [
    "### 4.1 Full System"
   ]
  },
  {
   "cell_type": "code",
   "execution_count": null,
   "metadata": {},
   "outputs": [],
   "source": [
    "exp_name=\"exp41\"\n",
    "pd = query.load_pd(suite=suite, exp=exp_name)"
   ]
  },
  {
   "cell_type": "markdown",
   "metadata": {},
   "source": [
    "#### Write-Only"
   ]
  },
  {
   "cell_type": "code",
   "execution_count": null,
   "metadata": {},
   "outputs": [],
   "source": [
    "# no workload filtering\n",
    "\n",
    "generate(t2_plot, pd_wo, f\"{exp_name}_wo_t2\") # throughput vs num_clients plot\n",
    "generate(rt2_plot, pd_wo, f\"{exp_name}_wo_rt2\") # response time vs num_clients plot"
   ]
  },
  {
   "cell_type": "markdown",
   "metadata": {},
   "source": [
    "#### 4.1.1 Explanation"
   ]
  },
  {
   "cell_type": "code",
   "execution_count": null,
   "metadata": {},
   "outputs": [],
   "source": []
  },
  {
   "cell_type": "markdown",
   "metadata": {},
   "source": [
    "### 4.2 Summary"
   ]
  },
  {
   "cell_type": "code",
   "execution_count": null,
   "metadata": {},
   "outputs": [],
   "source": []
  },
  {
   "cell_type": "markdown",
   "metadata": {},
   "source": [
    "## 5. Gets and Multi-gets (90 pts)"
   ]
  },
  {
   "cell_type": "markdown",
   "metadata": {},
   "source": [
    "### 5.1 Sharded-Case"
   ]
  },
  {
   "cell_type": "code",
   "execution_count": null,
   "metadata": {},
   "outputs": [],
   "source": [
    "# load pd of form:  get size | rt (in msec) | freq | percentile   (for both client and mw) "
   ]
  },
  {
   "cell_type": "code",
   "execution_count": null,
   "metadata": {},
   "outputs": [],
   "source": []
  },
  {
   "cell_type": "markdown",
   "metadata": {},
   "source": [
    "#### 5.1.1 Explanation"
   ]
  },
  {
   "cell_type": "code",
   "execution_count": null,
   "metadata": {},
   "outputs": [],
   "source": []
  },
  {
   "cell_type": "markdown",
   "metadata": {},
   "source": [
    "### 5.2 Non-Sharded Case"
   ]
  },
  {
   "cell_type": "code",
   "execution_count": null,
   "metadata": {},
   "outputs": [],
   "source": [
    "# load pd of form:  get size | rt (in msec) | freq | percentile   (for both client and mw) "
   ]
  },
  {
   "cell_type": "code",
   "execution_count": null,
   "metadata": {},
   "outputs": [],
   "source": []
  },
  {
   "cell_type": "markdown",
   "metadata": {},
   "source": [
    "### 5.3 Histogram"
   ]
  },
  {
   "cell_type": "code",
   "execution_count": null,
   "metadata": {},
   "outputs": [],
   "source": []
  },
  {
   "cell_type": "markdown",
   "metadata": {},
   "source": [
    "### 5.4 Summary"
   ]
  },
  {
   "cell_type": "code",
   "execution_count": null,
   "metadata": {},
   "outputs": [],
   "source": []
  },
  {
   "cell_type": "markdown",
   "metadata": {},
   "source": [
    "## 6. 2K Analysis (90 pts)"
   ]
  },
  {
   "cell_type": "code",
   "execution_count": null,
   "metadata": {},
   "outputs": [],
   "source": [
    "exp_name=\"exp60\"\n",
    "pd = query.load_pd(suite=suite, exp=exp_name)"
   ]
  },
  {
   "cell_type": "markdown",
   "metadata": {},
   "source": [
    "#### Write-Only"
   ]
  },
  {
   "cell_type": "code",
   "execution_count": null,
   "metadata": {},
   "outputs": [],
   "source": [
    "# transform to other panda dataframe (doing the 2K Analysis)\n",
    "# output to latex"
   ]
  },
  {
   "cell_type": "markdown",
   "metadata": {},
   "source": [
    "#### Read-Only"
   ]
  },
  {
   "cell_type": "code",
   "execution_count": null,
   "metadata": {},
   "outputs": [],
   "source": [
    "# transform to other panda dataframe (doing the 2K Analysis)\n",
    "# output to latex"
   ]
  },
  {
   "cell_type": "markdown",
   "metadata": {},
   "source": [
    "## 7. Queuing Model (90 pts)"
   ]
  },
  {
   "cell_type": "markdown",
   "metadata": {},
   "source": [
    "### 7.1 M/M/1"
   ]
  },
  {
   "cell_type": "code",
   "execution_count": null,
   "metadata": {},
   "outputs": [],
   "source": []
  },
  {
   "cell_type": "markdown",
   "metadata": {},
   "source": [
    "### 7.2 M/M/2"
   ]
  },
  {
   "cell_type": "code",
   "execution_count": null,
   "metadata": {},
   "outputs": [],
   "source": []
  },
  {
   "cell_type": "markdown",
   "metadata": {},
   "source": [
    "### 7.3 Network of Queues"
   ]
  },
  {
   "cell_type": "code",
   "execution_count": null,
   "metadata": {},
   "outputs": [],
   "source": []
  },
  {
   "cell_type": "markdown",
   "metadata": {},
   "source": []
  },
  {
   "cell_type": "code",
   "execution_count": null,
   "metadata": {},
   "outputs": [],
   "source": [
    "def t1_plot(ax, pd):\n",
    "    \n",
    "    clients = pd.loc[:,'num_clients'].values\n",
    "    throughput_means = pd.loc[:,'throughput_rep_mean'].values\n",
    "    throughput_stds = pd.loc[:,'throughput_rep_std'].values\n",
    "    \n",
    "    rt_means = pd.loc[:,'rt_rep_mean'].values\n",
    "    \n",
    "    throughput_interactive_law = clients / rt_means * 1000000\n",
    "    \n",
    "    ax.errorbar(clients, throughput_means, throughput_stds, capsize=5, marker='x',label=\"throughput\")\n",
    "    ax.plot(clients, throughput_interactive_law, linestyle='--')\n",
    "    \n",
    "    ax.legend()\n",
    "    ax.set_ylabel('Throughput [req/sec]')\n",
    "    ax.set_xlabel('Number of Clients')\n",
    "    \n",
    "def rt1_plot(ax, pd):\n",
    "    \n",
    "    clients = pd.loc[:,'num_clients'].values\n",
    "    throughput_means = pd.loc[:,'throughput_rep_mean'].values\n",
    "    \n",
    "    \n",
    "    rt_means = pd.loc[:,'rt_rep_mean'].values\n",
    "    rt_stds = pd.loc[:,'rt_rep_std'].values\n",
    "    \n",
    "    rt_interactive_law = clients / throughput_means * 1000000\n",
    "    \n",
    "    ax.errorbar(clients, rt_means, rt_stds, capsize=5, marker='x',label=\"response time\")\n",
    "    ax.plot(clients, rt_interactive_law, linestyle='--')\n",
    "    \n",
    "    ax.legend()\n",
    "    ax.set_ylabel('Response Time [micros]')\n",
    "    ax.set_xlabel('Number of Clients')\n",
    "    \n",
    "def generate(plot_func, pd, name):\n",
    "    fig, ax = plt.subplots()\n",
    "    plot_func(ax, pd)\n",
    "    fig.savefig(f\"./{name}.pdf\")\n",
    "    plt.show()"
   ]
  },
  {
   "cell_type": "code",
   "execution_count": null,
   "metadata": {},
   "outputs": [],
   "source": []
  }
 ],
 "metadata": {
  "kernelspec": {
   "display_name": "Python 3",
   "language": "python",
   "name": "python3"
  },
  "language_info": {
   "codemirror_mode": {
    "name": "ipython",
    "version": 3
   },
   "file_extension": ".py",
   "mimetype": "text/x-python",
   "name": "python",
   "nbconvert_exporter": "python",
   "pygments_lexer": "ipython3",
   "version": "3.7.1"
  }
 },
 "nbformat": 4,
 "nbformat_minor": 2
}
