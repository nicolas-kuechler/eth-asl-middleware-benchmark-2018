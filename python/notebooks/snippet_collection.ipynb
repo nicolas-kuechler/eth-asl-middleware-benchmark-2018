{
 "cells": [
  {
   "cell_type": "markdown",
   "metadata": {},
   "source": [
    "# Snippet Collection"
   ]
  },
  {
   "cell_type": "markdown",
   "metadata": {},
   "source": [
    "### Putty"
   ]
  },
  {
   "cell_type": "code",
   "execution_count": null,
   "metadata": {},
   "outputs": [],
   "source": [
    "import subprocess\n",
    "\n",
    "#subprocess.Popen('putty.exe -load \"asl-client-1')\n",
    "#subprocess.Popen('putty.exe -load \"asl-mw-1')\n",
    "#subprocess.Popen('putty.exe -load \"asl-server-1')"
   ]
  },
  {
   "cell_type": "code",
   "execution_count": null,
   "metadata": {},
   "outputs": [],
   "source": [
    "import subprocess\n",
    "\n",
    "n_client = 3\n",
    "n_middleware = 2\n",
    "n_server = 3\n",
    "\n",
    "for c in range(n_client):\n",
    "    subprocess.Popen(f\"putty.exe -load asl-client-{c+1}\")\n",
    "\n",
    "for mw in range(n_middleware):\n",
    "    subprocess.Popen(f\"putty.exe -load asl-mw-{mw+1}\")\n",
    "    \n",
    "for s in range(n_server):\n",
    "    subprocess.Popen(f\"putty.exe -load asl-server-{s+1}\")\n",
    "    "
   ]
  },
  {
   "cell_type": "markdown",
   "metadata": {},
   "source": [
    "### Azure"
   ]
  },
  {
   "cell_type": "code",
   "execution_count": null,
   "metadata": {},
   "outputs": [],
   "source": [
    "list_vm_status()"
   ]
  },
  {
   "cell_type": "code",
   "execution_count": null,
   "metadata": {},
   "outputs": [],
   "source": [
    "deallocate_all()"
   ]
  },
  {
   "cell_type": "code",
   "execution_count": null,
   "metadata": {},
   "outputs": [],
   "source": [
    "import json\n",
    "from azure.common.credentials import ServicePrincipalCredentials\n",
    "from azure.mgmt.compute import ComputeManagementClient\n",
    "\n",
    "def get_compute_client():\n",
    "    with open(\"C:/Users/nicok/.ssh/asl/asl-experiment-master.json\") as f:\n",
    "        cred = json.load(f)\n",
    "\n",
    "    subscription_id = cred['subscription_id']\n",
    "    credentials = ServicePrincipalCredentials(\n",
    "        client_id=cred['application_id'],\n",
    "        secret=cred['key'],\n",
    "        tenant=cred['tenant']\n",
    "    )\n",
    "    \n",
    "    compute_client = ComputeManagementClient(credentials, subscription_id)\n",
    "    return compute_client\n",
    "\n",
    "def get_power_state(group_name, vm_name, compute_client=None):\n",
    "    \n",
    "    if compute_client is None:\n",
    "        compute_client= get_compute_client()\n",
    "    \n",
    "    for status in compute_client.virtual_machines.instance_view(group_name, vm_name).statuses:\n",
    "        if(status.code.startswith('PowerState/')):\n",
    "            vm_status = status.code\n",
    "    return vm_status\n",
    "\n",
    "def list_vm_status(compute_client=None):\n",
    "    \n",
    "    if compute_client is None:\n",
    "        compute_client= get_compute_client()\n",
    "    \n",
    "    for vm in compute_client.virtual_machines.list(\"asl\"):\n",
    "        vm_status = get_power_state(\"asl\", vm.name, compute_client)\n",
    "        print(f\"{vm.name}: \\t{vm_status}\")\n",
    "        \n",
    "def deallocate_all(compute_client=None):\n",
    "    \n",
    "    if compute_client is None:\n",
    "        compute_client= get_compute_client()\n",
    "    \n",
    "    async_vm_stops = []\n",
    "    vm_names = []\n",
    "    print(\"Deallocating all VM's...\")\n",
    "    \n",
    "    for vm in compute_client.virtual_machines.list(\"asl\"):\n",
    "        async_vm_stop = compute_client.virtual_machines.deallocate(\"asl\", vm.name)\n",
    "        async_vm_stops.append(async_vm_stop)\n",
    "        vm_names.append(vm.name)\n",
    "        print(f\"  Deallocating {vm.name}...\")\n",
    "\n",
    "    for vm_name, async_vm_stop in zip(vm_names, async_vm_stops):\n",
    "        async_vm_stop.wait()\n",
    "        print(f\"  Finished Deallocating {vm_name}\")\n",
    "        \n",
    "    print(\"Finished Deallocating all VM's\")"
   ]
  }
 ],
 "metadata": {
  "kernelspec": {
   "display_name": "Python 3",
   "language": "python",
   "name": "python3"
  },
  "language_info": {
   "codemirror_mode": {
    "name": "ipython",
    "version": 3
   },
   "file_extension": ".py",
   "mimetype": "text/x-python",
   "name": "python",
   "nbconvert_exporter": "python",
   "pygments_lexer": "ipython3",
   "version": "3.7.0"
  }
 },
 "nbformat": 4,
 "nbformat_minor": 2
}
